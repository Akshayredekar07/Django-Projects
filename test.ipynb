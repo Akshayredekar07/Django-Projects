{
 "cells": [
  {
   "cell_type": "code",
   "execution_count": 23,
   "metadata": {},
   "outputs": [
    {
     "name": "stdout",
     "output_type": "stream",
     "text": [
      "Ryan Mcdonald\n",
      "Elizabeth\n",
      "Hoffman\n",
      "2018-09-05\n",
      "50002\n",
      "robbinsmichael@example.net\n",
      "South Nathan\n",
      "9641\n",
      "Team Lead\n"
     ]
    }
   ],
   "source": [
    "from faker import Faker\n",
    "\n",
    "fakegen=Faker()\n",
    "name=fakegen.name()\n",
    "print(name)\n",
    "fname=fakegen.first_name()\n",
    "print(fname)\n",
    "lname=fakegen.last_name()\n",
    "print(lname)\n",
    "date=fakegen.date()\n",
    "print(date)\n",
    "number=fakegen.random_number(5)\n",
    "email=fakegen.email()\n",
    "print(number)\n",
    "print(email)\n",
    "city=fakegen.city()\n",
    "print(city)\n",
    "print(fakegen.random_int(min=0,max=9999))\n",
    "print(fakegen.random_element(elements=('Project manager','Team Lead', 'Software engineer')))"
   ]
  },
  {
   "cell_type": "code",
   "execution_count": 24,
   "metadata": {},
   "outputs": [
    {
     "data": {
      "text/plain": [
       "('Ryan Mcdonald',\n",
       " 'Elizabeth',\n",
       " 'Hoffman',\n",
       " '2018-09-05',\n",
       " 50002,\n",
       " 'robbinsmichael@example.net',\n",
       " 'South Nathan')"
      ]
     },
     "execution_count": 24,
     "metadata": {},
     "output_type": "execute_result"
    }
   ],
   "source": [
    "name, fname, lname, date, number,email,city"
   ]
  },
  {
   "cell_type": "code",
   "execution_count": 3,
   "metadata": {},
   "outputs": [
    {
     "name": "stdout",
     "output_type": "stream",
     "text": [
      "B.tech qualifacation\n",
      "gold+land+cash\n",
      "9999\n"
     ]
    }
   ],
   "source": [
    "class Parent:\n",
    "    def __init__(self):\n",
    "        self.x=9999\n",
    "\n",
    "    def property(self):\n",
    "        print('gold+land+cash')\n",
    "\n",
    "\n",
    "class Child(Parent):\n",
    "    def education(self):\n",
    "        print(\"B.tech qualifacation\")\n",
    "\n",
    "\n",
    "c=Child()\n",
    "c.education()\n",
    "c.property()\n",
    "print(c.x)"
   ]
  },
  {
   "cell_type": "code",
   "execution_count": null,
   "metadata": {},
   "outputs": [],
   "source": []
  }
 ],
 "metadata": {
  "kernelspec": {
   "display_name": "Python 3",
   "language": "python",
   "name": "python3"
  },
  "language_info": {
   "codemirror_mode": {
    "name": "ipython",
    "version": 3
   },
   "file_extension": ".py",
   "mimetype": "text/x-python",
   "name": "python",
   "nbconvert_exporter": "python",
   "pygments_lexer": "ipython3",
   "version": "3.11.5"
  }
 },
 "nbformat": 4,
 "nbformat_minor": 2
}
